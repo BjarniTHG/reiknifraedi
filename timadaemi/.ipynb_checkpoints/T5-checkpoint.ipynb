{
 "cells": [
  {
   "cell_type": "code",
   "execution_count": 1,
   "id": "fcae16fc",
   "metadata": {},
   "outputs": [],
   "source": [
    "import re\n",
    "import numpy as np\n",
    "class Skil(object):\n",
    "    \"\"\"Timadaemi 2 f. REI Bjarni Þór Guðmundsson(btg7@hi.is)\"\"\"\n",
    "    def add_2(self, a, b):\n",
    "        if isinstance(a, float) and isinstance(b, float):\n",
    "            return a + b\n",
    "        \n",
    "        if isinstance(a, np.ndarray) and isinstance(b, float):\n",
    "            nidurstada = a.astype(float).copy()\n",
    "            stok = np.diag_indices_from(a)\n",
    "            nidurstada[stok] += b\n",
    "            return nidurstada\n",
    "        \n",
    "        if isinstance(a, float) and isinstance(b, np.ndarray):\n",
    "            nidurstada = b.astype(float).copy()\n",
    "            stok = np.diag_indices_from(a)\n",
    "            nidurstada[stok] += a\n",
    "            return nidurstada\n",
    "            \n",
    "        if isinstance(a, np.ndarray) and isinstance(b, np.ndarray) and a.shape == b.shape:\n",
    "            return a + b\n",
    "            \n",
    "        if isinstance(a, np.ndarray) and isinstance(b, np.ndarray) and a.shape != b.shape:\n",
    "            return np.sum(a) + np.sum(b)\n",
    "        \n",
    "if __name__ == '__main__':\n",
    "    skil = Skil()"
   ]
  },
  {
   "cell_type": "code",
   "execution_count": null,
   "id": "e27b6546",
   "metadata": {},
   "outputs": [],
   "source": []
  }
 ],
 "metadata": {
  "kernelspec": {
   "display_name": "Python 3 (ipykernel)",
   "language": "python",
   "name": "python3"
  },
  "language_info": {
   "codemirror_mode": {
    "name": "ipython",
    "version": 3
   },
   "file_extension": ".py",
   "mimetype": "text/x-python",
   "name": "python",
   "nbconvert_exporter": "python",
   "pygments_lexer": "ipython3",
   "version": "3.10.9"
  }
 },
 "nbformat": 4,
 "nbformat_minor": 5
}
