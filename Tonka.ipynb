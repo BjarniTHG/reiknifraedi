{
 "cells": [
  {
   "cell_type": "code",
   "execution_count": 5,
   "id": "4b338247",
   "metadata": {},
   "outputs": [
    {
     "name": "stdout",
     "output_type": "stream",
     "text": [
      "1\n",
      "3\n",
      "1² = 1\n",
      "2² = 4\n",
      "3² = 9\n",
      "√1 = 1.0\n",
      "√2 = 1.41\n",
      "√3 = 1.73\n"
     ]
    }
   ],
   "source": [
    "import math\n",
    "A = 1\n",
    "B = 3\n",
    "\n",
    "def LoopMath(A, B):\n",
    "    print(A)\n",
    "    print(B)\n",
    "    for i in range(A, B+1):\n",
    "        veldi = round((i**2), 2)\n",
    "        print(f\"{i}\\u00b2 = {veldi}\")\n",
    "    for i in range(A, B+1):\n",
    "        stak = round(math.sqrt(i), 2)\n",
    "        print(f\"\\u221a{i} = {stak}\")\n",
    "LoopMath(A, B)"
   ]
  },
  {
   "cell_type": "code",
   "execution_count": null,
   "id": "39a94f77",
   "metadata": {},
   "outputs": [],
   "source": []
  }
 ],
 "metadata": {
  "kernelspec": {
   "display_name": "Python 3 (ipykernel)",
   "language": "python",
   "name": "python3"
  },
  "language_info": {
   "codemirror_mode": {
    "name": "ipython",
    "version": 3
   },
   "file_extension": ".py",
   "mimetype": "text/x-python",
   "name": "python",
   "nbconvert_exporter": "python",
   "pygments_lexer": "ipython3",
   "version": "3.10.9"
  }
 },
 "nbformat": 4,
 "nbformat_minor": 5
}
