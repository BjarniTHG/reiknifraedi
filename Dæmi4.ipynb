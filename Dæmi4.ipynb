{
  "nbformat": 4,
  "nbformat_minor": 0,
  "metadata": {
    "colab": {
      "provenance": [],
      "authorship_tag": "ABX9TyMfWFR5KwvwDyc1HpI9/c2X",
      "include_colab_link": true
    },
    "kernelspec": {
      "name": "python3",
      "display_name": "Python 3"
    },
    "language_info": {
      "name": "python"
    }
  },
  "cells": [
    {
      "cell_type": "markdown",
      "metadata": {
        "id": "view-in-github",
        "colab_type": "text"
      },
      "source": [
        "<a href=\"https://colab.research.google.com/github/BjarniTHG/reiknifraedi/blob/main/D%C3%A6mi4.ipynb\" target=\"_parent\"><img src=\"https://colab.research.google.com/assets/colab-badge.svg\" alt=\"Open In Colab\"/></a>"
      ]
    },
    {
      "cell_type": "code",
      "execution_count": 13,
      "metadata": {
        "colab": {
          "base_uri": "https://localhost:8080/",
          "height": 0
        },
        "id": "6RZXWHkeNCMp",
        "outputId": "35c92e7c-8493-4486-eb3d-a8250c9e8057"
      },
      "outputs": [
        {
          "output_type": "execute_result",
          "data": {
            "text/plain": [
              "[6, 3, 11]"
            ]
          },
          "metadata": {},
          "execution_count": 13
        }
      ],
      "source": [
        "import math\n",
        "\n",
        "def telja(s):\n",
        "  k = []\n",
        "  d = s.split()\n",
        "  for i in range(len(d)):\n",
        "    k.append(len(d[i]))\n",
        "  return k\n",
        "\n",
        "telja(\"Bjarni Þór Guðmundsson\")"
      ]
    },
    {
      "cell_type": "code",
      "source": [
        "def hropa(s):\n",
        "  l = []\n",
        "  l = s.upper()\n",
        "  print(l + \"!!\")\n",
        "\n",
        "hropa(\"Bjarni Þór Guðmundsson\")"
      ],
      "metadata": {
        "colab": {
          "base_uri": "https://localhost:8080/",
          "height": 0
        },
        "id": "ghB_nLZpPPM6",
        "outputId": "3e4c7847-e74a-4df6-c261-c9b4288add39"
      },
      "execution_count": 1,
      "outputs": [
        {
          "output_type": "stream",
          "name": "stdout",
          "text": [
            "BJARNI ÞÓR GUÐMUNDSSON!!\n"
          ]
        }
      ]
    },
    {
      "cell_type": "code",
      "source": [
        "def storir(s):\n",
        "  listi = s.split()\n",
        "  for i in range(len(listi)):\n",
        "    if listi[i][0] == listi[i][0].upper(): #Insaneeeee pythonic(?!?)\n",
        "      listi[i] = \"S\"\n",
        "    else:\n",
        "      listi[i] = \"Ó\"\n",
        "  return listi\n",
        "storir(\"hér Er Langur strengur\")"
      ],
      "metadata": {
        "colab": {
          "base_uri": "https://localhost:8080/",
          "height": 0
        },
        "id": "HgFRFOMh9IkQ",
        "outputId": "17066778-cd98-4682-ae5c-0bab27b92849"
      },
      "execution_count": 15,
      "outputs": [
        {
          "output_type": "execute_result",
          "data": {
            "text/plain": [
              "['Ó', 'S', 'S', 'Ó']"
            ]
          },
          "metadata": {},
          "execution_count": 15
        }
      ]
    }
  ]
}