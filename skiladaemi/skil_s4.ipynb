{
 "cells": [
  {
   "cell_type": "markdown",
   "id": "9839931e",
   "metadata": {},
   "source": [
    "Höfundur: Bjarni Þór Guðmundsson\n",
    "Netfang: btg7@hi.is\n",
    "Skilaverkefni 4"
   ]
  },
  {
   "cell_type": "code",
   "execution_count": 1,
   "id": "fc0a858d",
   "metadata": {},
   "outputs": [],
   "source": [
    "import numpy as np"
   ]
  },
  {
   "cell_type": "markdown",
   "id": "e86f4970",
   "metadata": {},
   "source": [
    "Hér fyrir neðan er dæmi 1a:"
   ]
  },
  {
   "cell_type": "code",
   "execution_count": 58,
   "id": "d99e217e",
   "metadata": {},
   "outputs": [
    {
     "name": "stdout",
     "output_type": "stream",
     "text": [
      "Flokkur Atkvæði Hlutfall Þingsæti\n",
      "---------------------------------\n",
      "B         34501    17.3%    13\n",
      "C         16628    8.3%     5\n",
      "D         48708    24.4%    16\n",
      "F         17672    8.8%     6\n",
      "J          8181    4.1%     0\n",
      "M         10879    5.4%     3\n",
      "O           836    0.4%     0\n",
      "P         17233    8.6%     6\n",
      "S         19825    9.9%     6\n",
      "V         25114    12.6%     8\n",
      "Y           144    0.1%     0\n"
     ]
    }
   ],
   "source": [
    "from urllib.request import urlopen\n",
    "f = urlopen(\"https://cs.hi.is/python/kosningar-2021.txt\")\n",
    "Flokkur = []\n",
    "Atkvaedi = []\n",
    "Thingsaeti = []\n",
    "\n",
    "f.readline() #lesum og sleppum fyrstu línunni í hverjum dálk þar sem það er header\n",
    "\n",
    "for lína in f:\n",
    "    (Flokkurx, Atkvaedix, Thingsaetix) = lína.decode().split()\n",
    "    Flokkur.append(Flokkurx)\n",
    "    Atkvaedi.append(Atkvaedix)\n",
    "    Thingsaeti.append(Thingsaetix)\n",
    "\n",
    "intAtkvaedi = [int(stak) for stak in Atkvaedi]\n",
    "heildarfjoldi = sum(intAtkvaedi)\n",
    "hlutfall = []\n",
    "for i in range (len(Flokkur)):\n",
    "    hlutfall.append(intAtkvaedi[i] / heildarfjoldi * 100)\n",
    "\n",
    "runad_hlutfall = [round(value, 1) for value in hlutfall]\n",
    "\n",
    "print('Flokkur Atkvæði Hlutfall Þingsæti')\n",
    "print('---------------------------------')\n",
    "for i in range (len(Flokkur)):\n",
    "    print(f\"{Flokkur[i]:<10}{Atkvaedi[i]:>5}    {runad_hlutfall[i]}%    {Thingsaeti[i]:>2}\") "
   ]
  },
  {
   "cell_type": "markdown",
   "id": "929d3f59",
   "metadata": {},
   "source": [
    "Hér fyrir neðan er 1b"
   ]
  },
  {
   "cell_type": "code",
   "execution_count": 74,
   "id": "6a52188a",
   "metadata": {},
   "outputs": [
    {
     "name": "stdout",
     "output_type": "stream",
     "text": [
      "Flokkur Atkvæði Hlutfall Þingsæti Sætishluti\n",
      "--------------------------------------------\n",
      "B         34501    17.3%      13    11.4\n",
      "C         16628    8.3%       5     5.5\n",
      "D         48708    24.4%      16    16.1\n",
      "F         17672    8.8%       6     5.8\n",
      "M         10879    5.4%       3     3.6\n",
      "P         17233    8.6%       6     5.7\n",
      "S         19825    9.9%       6     6.6\n",
      "V         25114    12.6%       8     8.3\n"
     ]
    }
   ],
   "source": [
    "from urllib.request import urlopen\n",
    "f = urlopen(\"https://cs.hi.is/python/kosningar-2021.txt\")\n",
    "Flokkur = []\n",
    "Atkvaedi = []\n",
    "Thingsaeti = []\n",
    "\n",
    "f.readline() #lesum og sleppum fyrstu línunni í hverjum dálk þar sem það er header\n",
    "\n",
    "for lína in f:\n",
    "    (Flokkurx, Atkvaedix, Thingsaetix) = lína.decode().split()\n",
    "    Flokkur.append(Flokkurx)\n",
    "    Atkvaedi.append(Atkvaedix)\n",
    "    Thingsaeti.append(Thingsaetix)\n",
    "\n",
    "intAtkvaedi = [int(stak) for stak in Atkvaedi]\n",
    "heildarfjoldi = sum(intAtkvaedi)\n",
    "hlutfall = []\n",
    "for i in range (len(Flokkur)):\n",
    "    hlutfall.append(intAtkvaedi[i] / heildarfjoldi * 100)\n",
    "\n",
    "runad_hlutfall = [round(value, 1) for value in hlutfall]\n",
    "\n",
    "filtered_Flokkur = []\n",
    "filtered_intAtkvaedi = []\n",
    "filtered_runad_hlutfall = []\n",
    "filtered_Thingsaeti = []\n",
    "for i in range(len(Flokkur)):\n",
    "    if runad_hlutfall[i] >= 5:\n",
    "        filtered_Flokkur.append(Flokkur[i])\n",
    "        filtered_intAtkvaedi.append(intAtkvaedi[i])\n",
    "        filtered_runad_hlutfall.append(runad_hlutfall[i])\n",
    "        filtered_Thingsaeti.append(Thingsaeti[i])\n",
    "\n",
    "filtered_heildarfjoldi = sum(filtered_intAtkvaedi)\n",
    "saetishluti = []\n",
    "for i in range (len(filtered_Flokkur)):\n",
    "    saetishluti.append(filtered_intAtkvaedi[i] / filtered_heildarfjoldi * 63)\n",
    "\n",
    "runadur_saetishluti = [round(value, 1) for value in saetishluti]\n",
    "heildarfjoldi_saetishluti = sum(runadur_saetishluti)\n",
    "\n",
    "print('Flokkur Atkvæði Hlutfall Þingsæti Sætishluti')\n",
    "print('--------------------------------------------')\n",
    "for i in range (len(filtered_Flokkur)):\n",
    "    print(f\"{filtered_Flokkur[i]:<10}{filtered_intAtkvaedi[i]:>5}    {filtered_runad_hlutfall[i]}%    {filtered_Thingsaeti[i]:>4} {runadur_saetishluti[i]:>7}\") "
   ]
  },
  {
   "cell_type": "markdown",
   "id": "4982c595",
   "metadata": {},
   "source": [
    "Samkvæmt forritinu mínu fékk flokkur B 1.6 sætum meira en það átti að fá, og flokkar C M S verið rúnaðir niður á við til að búa til plássið fyrir B. Tiltölulega sanngjarnt, sé ekki hvernig ætti að deila betur á flokkana."
   ]
  },
  {
   "cell_type": "markdown",
   "id": "2181a8e5",
   "metadata": {},
   "source": [
    "Hér er 1c:"
   ]
  },
  {
   "cell_type": "code",
   "execution_count": 84,
   "id": "6d103df4",
   "metadata": {},
   "outputs": [
    {
     "name": "stdout",
     "output_type": "stream",
     "text": [
      "Bókstafur Flokkur\n",
      "-----------------\n",
      "D         Sjálfstæðisflokkur\n",
      "\n",
      "V         Vinstri græn\n",
      "\n",
      "P         Píratar\n",
      "\n",
      "B         Framsóknarflokkur\n",
      "\n",
      "C         Viðreisn\n",
      "\n",
      "A         Björt framtíð\n",
      "\n",
      "S         Samfylkingin\n",
      "\n",
      "F         Flokkur Fólksins\n",
      "\n",
      "T         Dögun\n",
      "\n",
      "M         Miðflokkurinn\n",
      "\n",
      "R         Alþýðufylkingin\n",
      "\n",
      "J         Sósíalistaflokkur\n",
      "\n",
      "O         Frjálslyndi\n",
      "\n",
      "Y         Ábyrg framtíð\n",
      "\n"
     ]
    }
   ],
   "source": [
    "from urllib.request import urlopen\n",
    "f = urlopen(\"https://cs.hi.is/python/flokksnofn.txt\")\n",
    "tafla = {}\n",
    "f.readline()\n",
    "for lína in f:\n",
    "    (bokstafur, flokkur) = lína.decode().split('\\t')\n",
    "    tafla[bokstafur] = flokkur\n",
    "    \n",
    "print(\"Bókstafur Flokkur\")\n",
    "print(\"-----------------\")\n",
    "\n",
    "for(bokstafur, flokkur) in tafla.items():\n",
    "    print(f\"{bokstafur:<9} {flokkur}\")"
   ]
  },
  {
   "cell_type": "markdown",
   "id": "c7fe582e",
   "metadata": {},
   "source": [
    "Hér er liður 1 í '19 Hiti og úrkoma'"
   ]
  },
  {
   "cell_type": "code",
   "execution_count": 89,
   "id": "b1581297",
   "metadata": {},
   "outputs": [
    {
     "name": "stdout",
     "output_type": "stream",
     "text": [
      "1954 3.9 608.5\n",
      "1953 4.4 979.0\n",
      "1952 3.6 495.7\n",
      "1951 3.4 460.6\n",
      "1950 4.0 535.5\n",
      "1949 3.2 565.5\n",
      "2018 4.5 875.3\n",
      "2017 4.9 678.6\n",
      "2016 5.5 806.2\n",
      "2015 4.1 804.4\n"
     ]
    }
   ],
   "source": [
    "from urllib.request import urlopen\n",
    "f = urlopen(\"https://cs.hi.is/python/hiti-urkoma.txt\")\n",
    "artal = []\n",
    "hitastig = []\n",
    "urkoma = []\n",
    "for lína in f:\n",
    "    (artalx, hitastigx, urkomax) = lína.decode().split()\n",
    "    artal.append(artalx)\n",
    "    hitastig.append(hitastigx)\n",
    "    urkoma.append(urkomax)\n",
    "for i in range (5, -5, -1):\n",
    "    print(artal[i], hitastig[i], urkoma[i])"
   ]
  },
  {
   "cell_type": "markdown",
   "id": "0d0cc405",
   "metadata": {},
   "source": [
    "Hér er liður 2 í '19 hiti og úrkoma'"
   ]
  },
  {
   "cell_type": "code",
   "execution_count": 107,
   "id": "1674e52a",
   "metadata": {},
   "outputs": [
    {
     "name": "stdout",
     "output_type": "stream",
     "text": [
      "meðalhiti allra ára var:  3.9585714285714295\n",
      "Kaldasta árið var:  1979 og þá var meðalhitinn:  2.3\n",
      "Fjöldi ára sem meðalhitinn var undir 3°C:  4\n"
     ]
    }
   ],
   "source": [
    "from urllib.request import urlopen\n",
    "import numpy as np\n",
    "import matplotlib.pyplot as plt\n",
    "f = urlopen(\"https://cs.hi.is/python/hiti-urkoma.txt\")\n",
    "artal = []\n",
    "hitastig = []\n",
    "urkoma = []\n",
    "for lína in f:\n",
    "    (artalx, hitastigx, urkomax) = lína.decode().split()\n",
    "    artal.append(artalx)\n",
    "    hitastig.append(hitastigx)\n",
    "    urkoma.append(urkomax)\n",
    "float_artal = [float(item) for item in artal]\n",
    "float_hitastig = [float(item) for item in hitastig]\n",
    "float_urkoma = [float(item) for item in urkoma]\n",
    "\n",
    "medalhiti = (sum(float_hitastig)/(len(hitastig)))\n",
    "print(\"meðalhiti allra ára var: \", medalhiti)\n",
    "minnsta_hitastig = min(float_hitastig)\n",
    "minnsta_hitastig_index = float_hitastig.index(minnsta_hitastig)\n",
    "print(\"Kaldasta árið var: \", artal[minnsta_hitastig_index], \"og þá var meðalhitinn: \", minnsta_hitastig)\n",
    "teljari = 0\n",
    "for i in range(len(float_hitastig)):\n",
    "    if(float_hitastig[i] < 3):\n",
    "        teljari = teljari + 1\n",
    "print(\"Fjöldi ára sem meðalhitinn var undir 3°C: \", teljari)"
   ]
  },
  {
   "cell_type": "code",
   "execution_count": null,
   "id": "8147fb17",
   "metadata": {},
   "outputs": [],
   "source": []
  },
  {
   "cell_type": "code",
   "execution_count": null,
   "id": "d171dc4e",
   "metadata": {},
   "outputs": [],
   "source": []
  }
 ],
 "metadata": {
  "kernelspec": {
   "display_name": "Python 3 (ipykernel)",
   "language": "python",
   "name": "python3"
  },
  "language_info": {
   "codemirror_mode": {
    "name": "ipython",
    "version": 3
   },
   "file_extension": ".py",
   "mimetype": "text/x-python",
   "name": "python",
   "nbconvert_exporter": "python",
   "pygments_lexer": "ipython3",
   "version": "3.10.9"
  }
 },
 "nbformat": 4,
 "nbformat_minor": 5
}
