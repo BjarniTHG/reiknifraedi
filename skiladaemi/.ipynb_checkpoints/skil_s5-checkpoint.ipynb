{
 "cells": [
  {
   "cell_type": "markdown",
   "id": "10ca1b08",
   "metadata": {},
   "source": [
    "Hér er dæmi 8. Pólhnit:"
   ]
  },
  {
   "cell_type": "code",
   "execution_count": null,
   "id": "927eef09",
   "metadata": {},
   "outputs": [],
   "source": [
    "import numpy as np\n",
    "import math\n",
    "\n",
    "def pol2rec(r, theta):\n",
    "    rad = math.radians(theta)\n",
    "    x = r*math.cos(rad)\n",
    "    y = r*math.sin(rad)\n",
    "    \n",
    "    #x = r cos theta\n",
    "    #y = r sin theta\n",
    "    \n",
    "    return x, y\n",
    "\n",
    "def rec2pol(x, y):\n",
    "    r = math.sqrt(x**2 + y**2)\n",
    "    theta = math.degrees(math.atan2(y, x))\n",
    "    \n",
    "    #r=√x2+y2 \n",
    "    #θ=tan−1(yx) \n",
    "    return r, theta"
   ]
  },
  {
   "cell_type": "markdown",
   "id": "a8ee085b",
   "metadata": {},
   "source": [
    "Hér er liður 23. Málmavinnsla:"
   ]
  },
  {
   "cell_type": "code",
   "execution_count": null,
   "id": "d96b2a0f",
   "metadata": {},
   "outputs": [],
   "source": [
    "import numpy as np\n",
    "import math\n",
    "import matplotlib.pyplot as plt\n",
    "\n",
    "def saetistolur_edalloftt(k):\n",
    "    if k % 2 == 0:\n",
    "        sk = ((k+1)*(k+2)*(k+3))//6 + (k//2 - 1)\n",
    "    else:\n",
    "        sk = ((k+1)*(k+2)*(k+3))//6 - 2\n",
    "    \n",
    "    return sk\n",
    "\n",
    "def lota(s):\n",
    "    stada = true\n",
    "    while stada = true:\n",
    "        \n",
    "    \n",
    "    #Leiðbeining: Lotuna má finna með while-lykkju og fallinu úr lið 1\n",
    "    return lotunr\n",
    "def flokkur(s):\n",
    "    \n",
    "    \n",
    "    #Til að finna flokkinn er gott að nota if–elif–else.\n",
    "    return flokksnr"
   ]
  }
 ],
 "metadata": {
  "kernelspec": {
   "display_name": "Python 3 (ipykernel)",
   "language": "python",
   "name": "python3"
  },
  "language_info": {
   "codemirror_mode": {
    "name": "ipython",
    "version": 3
   },
   "file_extension": ".py",
   "mimetype": "text/x-python",
   "name": "python",
   "nbconvert_exporter": "python",
   "pygments_lexer": "ipython3",
   "version": "3.10.9"
  }
 },
 "nbformat": 4,
 "nbformat_minor": 5
}
