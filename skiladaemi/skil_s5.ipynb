{
 "cells": [
  {
   "cell_type": "markdown",
   "id": "78bd3f11",
   "metadata": {},
   "source": [
    "    Hér er dæmi 8. Pólhnit:"
   ]
  },
  {
   "cell_type": "code",
   "execution_count": null,
   "id": "277fb837",
   "metadata": {},
   "outputs": [],
   "source": [
    "import numpy as np\n",
    "import math\n",
    "\n",
    "def pol2rec(r, theta):\n",
    "    rad = math.radians(theta)\n",
    "    x = r*math.cos(rad)\n",
    "    y = r*math.sin(rad)\n",
    "    \n",
    "    #x = r cos theta\n",
    "    #y = r sin theta\n",
    "    \n",
    "    return x, y\n",
    "\n",
    "def rec2pol(x, y):\n",
    "    r = math.sqrt(x**2 + y**2)\n",
    "    theta = math.degrees(math.atan2(y, x))\n",
    "    \n",
    "    #r=√x2+y2 \n",
    "    #θ=tan−1(yx) \n",
    "    return r, theta"
   ]
  },
  {
   "cell_type": "markdown",
   "id": "7a4304f3",
   "metadata": {},
   "source": [
    "    Hér er liður 23. Málmavinnsla:"
   ]
  },
  {
   "cell_type": "code",
   "execution_count": null,
   "id": "be0fcc80",
   "metadata": {},
   "outputs": [],
   "source": [
    "import numpy as np\n",
    "import math\n",
    "import matplotlib.pyplot as plt\n",
    "\n",
    "def saetistolur_edalloftt(k):\n",
    "    if k % 2 == 0:\n",
    "        sk = ((k+1)*(k+2)*(k+3))//6 + (k//2 - 1)\n",
    "    else:\n",
    "        sk = ((k+1)*(k+2)*(k+3))//6 - 2\n",
    "    \n",
    "    return sk\n",
    "\n",
    "def lota(s):\n",
    "    while True:\n",
    "        if k > 1:\n",
    "            sk_prev = saetistolur_edalloft(k - 1)\n",
    "        else:\n",
    "            sk_prev = 0\n",
    "        \n",
    "        sk = saetistolur_edalloftt(k)\n",
    "        \n",
    "        if sk_prev < s <= sk:\n",
    "            return k\n",
    "        k += 1\n",
    "    \n",
    "    #Leiðbeining: Lotuna má finna með while-lykkju og fallinu úr lið 1\n",
    "    return lotunr\n",
    "def flokkur(s):\n",
    "    k = lota(s)\n",
    "    sk = saetistolur_edalloftt(k)\n",
    "    if k > 1:\n",
    "        sk_minus_einn = saetistolur_edalloftt(k)\n",
    "    else:\n",
    "        sk_minus_einn = 0\n",
    "        \n",
    "    if s = 1:\n",
    "        return 1\n",
    "    elif 1 < s <= sk_minus_einn + 2:\n",
    "        return s - sk_minus_einn\n",
    "    else:\n",
    "        return max(3, 18 + s - sk)"
   ]
  }
 ],
 "metadata": {
  "kernelspec": {
   "display_name": "Python 3 (ipykernel)",
   "language": "python",
   "name": "python3"
  },
  "language_info": {
   "codemirror_mode": {
    "name": "ipython",
    "version": 3
   },
   "file_extension": ".py",
   "mimetype": "text/x-python",
   "name": "python",
   "nbconvert_exporter": "python",
   "pygments_lexer": "ipython3",
   "version": "3.10.9"
  }
 },
 "nbformat": 4,
 "nbformat_minor": 5
}
