{
 "cells": [
  {
   "cell_type": "markdown",
   "id": "465c7241",
   "metadata": {},
   "source": [
    "    Hér er dæmi 8. Pólhnit:"
   ]
  },
  {
   "cell_type": "code",
   "execution_count": null,
   "id": "7b9b21d0",
   "metadata": {},
   "outputs": [],
   "source": [
    "import numpy as np\n",
    "import math\n",
    "\n",
    "def pol2rec(r, theta):\n",
    "    rad = math.radians(theta)\n",
    "    x = r*math.cos(rad)\n",
    "    y = r*math.sin(rad)\n",
    "\n",
    "    #x = r cos theta\n",
    "    #y = r sin theta\n",
    "\n",
    "    return x, y\n",
    "\n",
    "def rec2pol(x, y):\n",
    "    r = math.sqrt(x**2 + y**2)\n",
    "    theta = math.degrees(math.atan2(y, x))\n",
    "\n",
    "    #r=√x2+y2\n",
    "    #θ=tan−1(yx)\n",
    "    return r, theta\n",
    "\n",
    "x,y = pol2rec(4,35)\n",
    "print(f'{x:.3f}')\n",
    "print(f'{y:.3f}')\n",
    "\n"
   ]
  },
  {
   "cell_type": "markdown",
   "id": "9989f76f",
   "metadata": {},
   "source": [
    "    Hér er liður 23. Málmavinnsla:"
   ]
  },
  {
   "cell_type": "code",
   "execution_count": null,
   "id": "243665bc",
   "metadata": {},
   "outputs": [],
   "source": [
    "import numpy as np\n",
    "import math\n",
    "import matplotlib.pyplot as plt\n",
    "\n",
    "def saetistolur_edalloftt(k):\n",
    "  sk = ((k+1)*(k+2)*(k+3))//6\n",
    "  if k % 2 == 1:\n",
    "      return sk -2\n",
    "  else:\n",
    "    return sk + k //2 - 1\n"
   ]
  },
  {
   "cell_type": "code",
   "execution_count": null,
   "id": "304f849f",
   "metadata": {},
   "outputs": [],
   "source": [
    "def lota(s):\n",
    "  k = 0\n",
    "  while k <= 7:\n",
    "      k +=1\n",
    "      if saetistolur_edalloftt(k-1) < s and s <= saetistolur_edalloftt(k):\n",
    "        return k\n",
    "\n",
    "    #Leiðbeining: Lotuna má finna með while-lykkju og fallinu úr lið 1\n",
    "def flokkur(s):\n",
    "    k = lota(s)\n",
    "    sk = saetistolur_edalloftt(k)\n",
    "    sk_prev = saetistolur_edalloftt(k - 1) if k > 1 else 0\n",
    "\n",
    "    if s == 1:\n",
    "        return 1\n",
    "    elif 1 < s and s <= sk_prev + 2:\n",
    "        return s - sk_prev\n",
    "    else:\n",
    "        return max(3, 18 + s - sk)"
   ]
  },
  {
   "cell_type": "code",
   "execution_count": null,
   "id": "99a3407d",
   "metadata": {},
   "outputs": [],
   "source": [
    "def íslenska(s):\n",
    "    \"\"\"notað sem 'key' í sort eða sorted til að raða í íslenska stafrófsröð,\n",
    "    t.d. print(sorted(['ár','bára','bali','akur'], key=íslenska))\"\"\"\n",
    "    return [íslenska.k.get(c.lower(),0) for c in s]\n",
    "íslenska.a = list('0123456789aábcdðeéfghiíjklmnoópqrstuúvwxyýzþæö')\n",
    "íslenska.k = dict(zip(íslenska.a, range(1,len(íslenska.a)+1)))\n",
    "\n",
    "\n",
    "skrá = \"https://cs.hi.is/python/allir-malmar.txt\"\n",
    "A = np.loadtxt(skrá, skiprows=1, delimiter=';', dtype='str', encoding='UTF-8').T\n",
    "efnatákn    = A[0].tolist()\n",
    "nafn        = A[1].tolist()\n",
    "sætistala   = A[2].astype(int)\n",
    "A3          = np.char.replace(A[3], \",\", \".\")\n",
    "eðlisþyngd  = A3.astype(float)\n",
    "bræðslumark = A[4].astype(int)\n",
    "enskt_nafn  = A[5].tolist()\n",
    "\n",
    "tafla = dict(zip(nafn, enskt_nafn))\n",
    "rodud_nofn = sorted(nafn, key=íslenska)\n",
    "for islenskt_nafn in rodud_nofn:\n",
    "    enska_nafnid = tafla[islenskt_nafn]\n",
    "    print(f\"{islenskt_nafn} - {enska_nafnid}\")\n",
    "\n"
   ]
  },
  {
   "cell_type": "code",
   "execution_count": null,
   "id": "f95f2ff0",
   "metadata": {},
   "outputs": [],
   "source": [
    "import matplotlib.pyplot as plt\n",
    "\n",
    "lota_efnis = []\n",
    "for x in sætistala:\n",
    "    lota_efnis.append(lota(x))\n",
    "\n",
    "\n",
    "plt.scatter(sætistala,eðlisþyngd, c=lota_efnis)\n",
    "plt.colorbar(label='Lota efnis')\n",
    "plt.xlabel('Sætistala')\n",
    "plt.ylabel('Eðlisþyngd g/ml')\n",
    "plt.grid()"
   ]
  },
  {
   "cell_type": "code",
   "execution_count": null,
   "id": "9bbc7ae9",
   "metadata": {},
   "outputs": [],
   "source": [
    "scatter2 = plt.scatter(sætistala, bræðslumark, c=lota_efnis)\n",
    "plt.colorbar(scatter2)\n",
    "plt.xlabel('Sætistala')\n",
    "plt.ylabel('Bræðslumark')\n",
    "plt.grid()\n",
    "plt.show()"
   ]
  },
  {
   "cell_type": "code",
   "execution_count": null,
   "id": "1ceaca72",
   "metadata": {},
   "outputs": [],
   "source": []
  },
  {
   "cell_type": "code",
   "execution_count": null,
   "id": "7d8c57b0",
   "metadata": {},
   "outputs": [],
   "source": []
  }
 ],
 "metadata": {
  "kernelspec": {
   "display_name": "Python 3 (ipykernel)",
   "language": "python",
   "name": "python3"
  },
  "language_info": {
   "codemirror_mode": {
    "name": "ipython",
    "version": 3
   },
   "file_extension": ".py",
   "mimetype": "text/x-python",
   "name": "python",
   "nbconvert_exporter": "python",
   "pygments_lexer": "ipython3",
   "version": "3.10.9"
  }
 },
 "nbformat": 4,
 "nbformat_minor": 5
}
