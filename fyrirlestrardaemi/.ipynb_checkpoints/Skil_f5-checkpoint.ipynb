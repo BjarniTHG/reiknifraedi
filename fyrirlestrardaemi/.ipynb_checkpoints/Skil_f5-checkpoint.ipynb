{
 "cells": [
  {
   "cell_type": "code",
   "execution_count": 2,
   "id": "5acec545",
   "metadata": {},
   "outputs": [],
   "source": [
    "#Bjarni Þór Guðmundsson\n",
    "#btg7@hi.is\n",
    "import numpy as np\n",
    "\n",
    "list1 = [3, 2, 8] #a\n",
    "list2 = [2, 0, 1] #b\n",
    "list3 = [-2, 1, 5] #c\n",
    "\n",
    "vector1 = np.array(list1)\n",
    "vector2 = np.array(list2)\n",
    "vector3 = np.array(list3)\n",
    "\n",
    "matrix1 = np.array([[2, 4, 7], [3, 4, 8], [4, 6, 9]]) #A\n",
    "matrix2 = np.array([[5, 5, 5], [6, 6, 6], [7, 8, 9]]) #B\n",
    "\n",
    "#lidur a\n",
    "innfeldi = np.dot(vector1, vector2)\n",
    "Bb = np.dot(matrix2, vector2)\n",
    "innfeldi_c_Bb = np.dot(vector3, Bb)\n",
    "c = np.linalg.norm(vector3)\n",
    "utkoma = innfeldi - innfeldi_c_Bb / (3 * c)\n",
    "\n",
    "#lidur b\n",
    "AT = matrix1.T\n",
    "B_odru = np.dot(matrix2, matrix2)\n",
    "summa = AT + B_odru\n",
    "seinni_svigi = vector1 - 2*vector2\n",
    "nidurstada = np.dot(summa, seinni_svigi)\n",
    "final = 2 * nidurstada\n",
    "\n",
    "#lidur c    \n",
    "determinant = np.linalg.det(matrix1)\n",
    "inverse = np.linalg.inv(matrix1)\n",
    "\n",
    "#lidur d\n",
    "x = np.linalg.solve(matrix1, vector2)"
   ]
  },
  {
   "cell_type": "code",
   "execution_count": null,
   "id": "855f9e54",
   "metadata": {},
   "outputs": [],
   "source": []
  }
 ],
 "metadata": {
  "kernelspec": {
   "display_name": "Python 3 (ipykernel)",
   "language": "python",
   "name": "python3"
  },
  "language_info": {
   "codemirror_mode": {
    "name": "ipython",
    "version": 3
   },
   "file_extension": ".py",
   "mimetype": "text/x-python",
   "name": "python",
   "nbconvert_exporter": "python",
   "pygments_lexer": "ipython3",
   "version": "3.10.9"
  }
 },
 "nbformat": 4,
 "nbformat_minor": 5
}
